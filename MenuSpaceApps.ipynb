{
 "cells": [
  {
   "cell_type": "code",
   "execution_count": 7,
   "id": "fe0a108a-13f0-4064-8480-1d914e34d2e3",
   "metadata": {},
   "outputs": [
    {
     "data": {
      "text/html": [
       "\n",
       "        <iframe\n",
       "            width=\"100%\"\n",
       "            height=\"650\"\n",
       "            src=\"http://127.0.0.1:8054/\"\n",
       "            frameborder=\"0\"\n",
       "            allowfullscreen\n",
       "            \n",
       "        ></iframe>\n",
       "        "
      ],
      "text/plain": [
       "<IPython.lib.display.IFrame at 0x1cfdb77c470>"
      ]
     },
     "metadata": {},
     "output_type": "display_data"
    }
   ],
   "source": [
    "import dash\n",
    "from dash import dcc, html\n",
    "from dash.dependencies import Input, Output, State\n",
    "import base64\n",
    "import io\n",
    "\n",
    "# Inicializa la aplicación de Dash\n",
    "app = dash.Dash(__name__)\n",
    "\n",
    "# Layout de la aplicación\n",
    "app.layout = html.Div(\n",
    "    style={'textAlign': 'center', 'backgroundColor': '#1e1e1e', 'color': 'white'},  # Fondo oscuro y texto claro\n",
    "    children=[\n",
    "        html.H1(\"AI SpaceQuakes Detection Program\", style={'color': '#ffffff', 'font-family': 'Arial, sans-serif'}),  # Título en blanco\n",
    "        html.Img(src='/assets/image.png', style={'width': '200px', 'height': 'auto', 'margin': '20px 0'}),  # Imagen centrada\n",
    "        html.Div(\n",
    "            style={'display': 'flex', 'justify-content': 'center', 'gap': '20px'},\n",
    "            children=[\n",
    "                dcc.Upload(\n",
    "                    id='upload-csv',\n",
    "                    children=html.Button('Cargar archivos CSV', style={'background-color': '#01237d', 'color': 'white', 'padding': '10px'}),\n",
    "                    multiple=True\n",
    "                ),\n",
    "                dcc.Upload(\n",
    "                    id='upload-mseed',\n",
    "                    children=html.Button('Cargar archivos MSEED', style={'background-color': '#b100e8', 'color': 'white', 'padding': '10px'}),\n",
    "                    multiple=True\n",
    "                ),\n",
    "                html.Button('Correr función', id='run-function', style={'background-color': '#048aff', 'color': 'white', 'padding': '10px'})\n",
    "            ]\n",
    "        ),\n",
    "        html.Div(id='output-upload')  # Aquí se mostrará el resultado de las subidas o la función\n",
    "    ]\n",
    ")\n",
    "\n",
    "# Callback para manejar la subida de archivos CSV y MSEED, y para ejecutar la función\n",
    "@app.callback(\n",
    "    Output('output-upload', 'children'),\n",
    "    [Input('upload-csv', 'contents'), Input('upload-mseed', 'contents'), Input('run-function', 'n_clicks')],\n",
    "    [State('upload-csv', 'filename'), State('upload-mseed', 'filename')]\n",
    ")\n",
    "def handle_upload(csv_contents, mseed_contents, n_clicks, csv_filenames, mseed_filenames):\n",
    "    output = \"\"\n",
    "    \n",
    "    # Maneja archivos CSV\n",
    "    if csv_contents is not None:\n",
    "        output += \"Archivos CSV cargados: \" + \", \".join(csv_filenames) + \"\\n\"\n",
    "    \n",
    "    # Maneja archivos MSEED\n",
    "    if mseed_contents is not None:\n",
    "        output += \"Archivos MSEED cargados: \" + \", \".join(mseed_filenames) + \"\\n\"\n",
    "    \n",
    "    # Maneja la ejecución de la función\n",
    "    if n_clicks is not None:\n",
    "        output += \"Función ejecutada con éxito.\\n\"\n",
    "    \n",
    "    return html.Pre(output)\n",
    "\n",
    "if __name__ == '__main__':\n",
    "    app.run_server(debug=True, port=8054)\n"
   ]
  },
  {
   "cell_type": "code",
   "execution_count": null,
   "id": "5e4d3c0e-abcc-4e04-8809-7f6e79229636",
   "metadata": {},
   "outputs": [],
   "source": []
  }
 ],
 "metadata": {
  "kernelspec": {
   "display_name": "Python 3 (ipykernel)",
   "language": "python",
   "name": "python3"
  },
  "language_info": {
   "codemirror_mode": {
    "name": "ipython",
    "version": 3
   },
   "file_extension": ".py",
   "mimetype": "text/x-python",
   "name": "python",
   "nbconvert_exporter": "python",
   "pygments_lexer": "ipython3",
   "version": "3.12.4"
  }
 },
 "nbformat": 4,
 "nbformat_minor": 5
}
